{
 "cells": [
  {
   "cell_type": "markdown",
   "metadata": {},
   "source": [
    "# Cartpole environment"
   ]
  },
  {
   "cell_type": "code",
   "execution_count": 1,
   "metadata": {},
   "outputs": [
    {
     "data": {
      "text/plain": [
       "'/Users/sandeep/miniconda3/envs/rlenv/bin/python'"
      ]
     },
     "execution_count": 1,
     "metadata": {},
     "output_type": "execute_result"
    }
   ],
   "source": [
    "# See that, we are using the correct environment\n",
    "import sys\n",
    "sys.executable"
   ]
  },
  {
   "cell_type": "markdown",
   "metadata": {},
   "source": [
    "## A pole is attached by a joint to a cart, which moves along a frictionless track. \n",
    "\n",
    "## Actions: The system is controlled by applying a force of +1 or -1 to the cart.  +1: accelerate right\n",
    "\n",
    "## Starting State and Goal: The pendulum starts upright, and the goal is to prevent it from falling over. \n",
    "\n",
    "## Reward: A reward of +1 is provided for every timestep that the pole remains upright. \n",
    "\n",
    "## Done: The episode ends when the pole is more than 15 degrees from vertical, or the cart moves more than 2.4 units from the center."
   ]
  },
  {
   "cell_type": "markdown",
   "metadata": {},
   "source": [
    "# Random Actions "
   ]
  },
  {
   "cell_type": "code",
   "execution_count": 3,
   "metadata": {},
   "outputs": [
    {
     "name": "stdout",
     "output_type": "stream",
     "text": [
      "Pole falls, after actions:30\n",
      "Pole falls, after actions:76\n",
      "Pole falls, after actions:109\n",
      "Pole falls, after actions:119\n",
      "Pole falls, after actions:135\n",
      "Pole falls, after actions:148\n",
      "Pole falls, after actions:162\n",
      "Pole falls, after actions:179\n",
      "Pole falls, after actions:232\n",
      "Pole falls, after actions:253\n",
      "Pole falls, after actions:307\n",
      "Pole falls, after actions:320\n",
      "Pole falls, after actions:336\n",
      "Pole falls, after actions:353\n",
      "Pole falls, after actions:369\n",
      "Pole falls, after actions:386\n",
      "Pole falls, after actions:402\n",
      "Pole falls, after actions:434\n",
      "Pole falls, after actions:456\n",
      "Pole falls, after actions:477\n",
      "Pole falls, after actions:503\n",
      "Pole falls, after actions:518\n",
      "Pole falls, after actions:550\n",
      "Pole falls, after actions:570\n",
      "Pole falls, after actions:602\n",
      "Pole falls, after actions:621\n",
      "Pole falls, after actions:637\n",
      "Pole falls, after actions:658\n",
      "Pole falls, after actions:684\n",
      "Pole falls, after actions:694\n",
      "Pole falls, after actions:705\n",
      "Pole falls, after actions:733\n",
      "Pole falls, after actions:746\n",
      "Pole falls, after actions:768\n",
      "Pole falls, after actions:800\n",
      "Pole falls, after actions:819\n",
      "Pole falls, after actions:842\n",
      "Pole falls, after actions:877\n",
      "Pole falls, after actions:894\n",
      "Pole falls, after actions:931\n",
      "Pole falls, after actions:962\n",
      "Pole falls, after actions:981\n",
      "Pole falls, after actions:997\n"
     ]
    }
   ],
   "source": [
    "import gym\n",
    "env = gym.make('CartPole-v0')\n",
    "env.reset()\n",
    "\n",
    "done = False\n",
    "\n",
    "for i in range(1000):\n",
    "    env.render()\n",
    "    \n",
    "    action = env.action_space.sample()\n",
    "    obs, _, done, _ = env.step(action) \n",
    "    \n",
    "    if done:\n",
    "        print('Pole falls, after actions:'+str(i))\n",
    "        env.reset()\n",
    "    \n",
    "env.close()"
   ]
  },
  {
   "cell_type": "markdown",
   "metadata": {},
   "source": [
    "# Main parts of the code"
   ]
  },
  {
   "cell_type": "markdown",
   "metadata": {},
   "source": [
    "# Create the environment"
   ]
  },
  {
   "cell_type": "code",
   "execution_count": 5,
   "metadata": {},
   "outputs": [],
   "source": [
    "env = gym.make('CartPole-v0')"
   ]
  },
  {
   "cell_type": "markdown",
   "metadata": {},
   "source": [
    "# Set Environment to initial condition\n",
    "## Example: Starting position of the cart"
   ]
  },
  {
   "cell_type": "code",
   "execution_count": 6,
   "metadata": {},
   "outputs": [
    {
     "data": {
      "text/plain": [
       "array([-0.03839502,  0.0267215 ,  0.04077438, -0.00399027])"
      ]
     },
     "execution_count": 6,
     "metadata": {},
     "output_type": "execute_result"
    }
   ],
   "source": [
    "env.reset()"
   ]
  },
  {
   "cell_type": "markdown",
   "metadata": {},
   "source": [
    "0\tCart Position\t(-2.4\t2.4)\n",
    "\n",
    "1\tCart Velocity\t(-Inf\tInf)\n",
    "\n",
    "2\tPole Angle\t(~ -41.8°\t~ 41.8°)\n",
    "\n",
    "3\tPole Velocity At Tip\t(-Inf\tInf)"
   ]
  },
  {
   "cell_type": "markdown",
   "metadata": {},
   "source": [
    "# Take action: env.step(Action)"
   ]
  },
  {
   "cell_type": "markdown",
   "metadata": {},
   "source": [
    "# Visualization: env.render()"
   ]
  },
  {
   "cell_type": "code",
   "execution_count": null,
   "metadata": {},
   "outputs": [],
   "source": []
  }
 ],
 "metadata": {
  "kernelspec": {
   "display_name": "Python 3 (ipykernel)",
   "language": "python",
   "name": "python3"
  },
  "language_info": {
   "codemirror_mode": {
    "name": "ipython",
    "version": 3
   },
   "file_extension": ".py",
   "mimetype": "text/x-python",
   "name": "python",
   "nbconvert_exporter": "python",
   "pygments_lexer": "ipython3",
   "version": "3.7.13"
  }
 },
 "nbformat": 4,
 "nbformat_minor": 2
}
